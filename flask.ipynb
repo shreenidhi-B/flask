{
  "nbformat": 4,
  "nbformat_minor": 0,
  "metadata": {
    "colab": {
      "provenance": []
    },
    "kernelspec": {
      "name": "python3",
      "display_name": "Python 3"
    },
    "language_info": {
      "name": "python"
    }
  },
  "cells": [
    {
      "cell_type": "code",
      "execution_count": 1,
      "metadata": {
        "id": "u2X18l3v7QSu"
      },
      "outputs": [],
      "source": [
        "import tensorflow as tf\n",
        "from tensorflow.keras.applications import ResNet50\n",
        "from tensorflow.keras.preprocessing import image\n",
        "from tensorflow.keras.applications.resnet50 import preprocess_input\n",
        "from tensorflow.keras.models import Model\n",
        "import numpy as np\n",
        "from sklearn.metrics.pairwise import cosine_similarity"
      ]
    },
    {
      "cell_type": "code",
      "source": [
        "# Load the pre-trained ResNet50 model\n",
        "base_model = ResNet50(weights='imagenet')\n",
        "model = Model(inputs=base_model.input, outputs=base_model.get_layer('avg_pool').output)\n",
        "\n",
        "def preprocess_image(img_path):\n",
        "    \"\"\"Loads and preprocesses an image.\"\"\"\n",
        "    img = image.load_img(img_path, target_size=(224, 224))\n",
        "    img_data = image.img_to_array(img)\n",
        "    img_data = np.expand_dims(img_data, axis=0)\n",
        "    img_data = preprocess_input(img_data)\n",
        "    return img_data\n",
        "\n",
        "def extract_features(img_path):\n",
        "    \"\"\"Extracts features from an image using ResNet50.\"\"\"\n",
        "    img_data = preprocess_image(img_path)\n",
        "    features = model.predict(img_data)\n",
        "    return features\n",
        "\n",
        "def compute_similarity(img_path1, img_path2):\n",
        "    \"\"\"Computes similarity between two images.\"\"\"\n",
        "    features1 = extract_features(img_path1)\n",
        "    features2 = extract_features(img_path2)\n",
        "    similarity = cosine_similarity(features1, features2)\n",
        "    return similarity[0][0]\n",
        "\n",
        "# Example usage\n",
        "img_path1 = '/content/necklace1.jpg'\n",
        "img_path2 = '/content/necklace2.jpg'\n",
        "\n",
        "similarity_score = compute_similarity(img_path1, img_path2)\n",
        "print(f\"Similarity score between the images: {similarity_score}\")\n",
        "if similarity_score > 0.8:\n",
        "    print(\"Images are similar.\")\n",
        "else:\n",
        "    print(\"Images are not similar.\")\n"
      ],
      "metadata": {
        "colab": {
          "base_uri": "https://localhost:8080/"
        },
        "id": "QsusEd_Y8WFY",
        "outputId": "c645f38f-7031-4c02-d6ec-5b646e044939"
      },
      "execution_count": 2,
      "outputs": [
        {
          "output_type": "stream",
          "name": "stdout",
          "text": [
            "Downloading data from https://storage.googleapis.com/tensorflow/keras-applications/resnet/resnet50_weights_tf_dim_ordering_tf_kernels.h5\n",
            "102967424/102967424 [==============================] - 1s 0us/step\n",
            "1/1 [==============================] - 1s 1s/step\n",
            "1/1 [==============================] - 0s 198ms/step\n",
            "Similarity score between the images: 0.9002416133880615\n",
            "Images are similar.\n"
          ]
        }
      ]
    },
    {
      "cell_type": "code",
      "source": [
        "from keras.applications.resnet50 import ResNet50, preprocess_input\n",
        "from keras.preprocessing import image\n",
        "from keras.models import Model\n",
        "import numpy as np\n",
        "from sklearn.metrics.pairwise import cosine_similarity\n",
        "import os\n",
        "\n",
        "# Load the pre-trained ResNet50 model\n",
        "base_model = ResNet50(weights='imagenet')\n",
        "model = Model(inputs=base_model.input, outputs=base_model.get_layer('avg_pool').output)"
      ],
      "metadata": {
        "id": "jZd1xhAj8huq"
      },
      "execution_count": 3,
      "outputs": []
    },
    {
      "cell_type": "code",
      "source": [
        "def preprocess_image(img_path):\n",
        "    \"\"\"Loads and preprocesses an image.\"\"\"\n",
        "    img = image.load_img(img_path, target_size=(224, 224))\n",
        "    img_data = image.img_to_array(img)\n",
        "    img_data = np.expand_dims(img_data, axis=0)\n",
        "    img_data = preprocess_input(img_data)\n",
        "    return img_data\n",
        "\n",
        "def extract_features(img_path):\n",
        "    \"\"\"Extracts features from an image using ResNet50.\"\"\"\n",
        "    img_data = preprocess_image(img_path)\n",
        "    features = model.predict(img_data)\n",
        "    return features\n",
        "\n",
        "def compute_similarity(img_path1, img_paths):\n",
        "    \"\"\"Computes similarity between an image and multiple images.\"\"\"\n",
        "    features1 = extract_features(img_path1)\n",
        "\n",
        "    similarities = []\n",
        "    for img_path2 in img_paths:\n",
        "        features2 = extract_features(img_path2)\n",
        "        similarity = cosine_similarity(features1, features2)\n",
        "        similarities.append(similarity)\n",
        "\n",
        "    return similarities"
      ],
      "metadata": {
        "id": "s--bxLb58nEI"
      },
      "execution_count": 4,
      "outputs": []
    },
    {
      "cell_type": "code",
      "source": [
        "# Example usage\n",
        "img_path1 = '/content/necklace1.jpg'\n",
        "img_paths = [\n",
        "    '/content/necklace2.jpg',\n",
        "    '/content/Screenshot 2024-06-15 180558.jpg',\n",
        "    '/content/Screenshot 2024-06-15 180645.jpg',\n",
        "    '/content/Screenshot 2024-06-15 180653.jpg',\n",
        "    '/content/Screenshot 2024-06-15 180701.jpg',\n",
        "    '/content/Screenshot 2024-06-15 180711.jpg',\n",
        "    '/content/Screenshot 2024-06-15 180721.jpg'\n",
        "\n",
        "\n",
        "]\n",
        "\n",
        "similarities = compute_similarity(img_path1, img_paths)\n",
        "\n",
        "threshold = 0.8  # hyperparameter\n",
        "similar_images = []\n",
        "for i, similarity_score in enumerate(similarities):\n",
        "    if similarity_score > threshold:\n",
        "        print(f\"Image {img_paths[i]} is similar with score: {similarity_score}\")\n",
        "        similar_images.append(img_paths[i])\n",
        "\n",
        "if similar_images:\n",
        "    print(\"Similar images found:\", similar_images)\n",
        "else:\n",
        "    print(\"No similar images found.\")"
      ],
      "metadata": {
        "colab": {
          "base_uri": "https://localhost:8080/"
        },
        "id": "HFXEqFYz8wcX",
        "outputId": "c59dfcaf-b66c-4c31-8a1b-9e55e1f5d2e6"
      },
      "execution_count": 10,
      "outputs": [
        {
          "output_type": "stream",
          "name": "stdout",
          "text": [
            "1/1 [==============================] - 0s 190ms/step\n",
            "1/1 [==============================] - 0s 203ms/step\n",
            "1/1 [==============================] - 0s 205ms/step\n",
            "1/1 [==============================] - 0s 198ms/step\n",
            "1/1 [==============================] - 0s 196ms/step\n",
            "1/1 [==============================] - 0s 190ms/step\n",
            "1/1 [==============================] - 0s 189ms/step\n",
            "1/1 [==============================] - 0s 192ms/step\n",
            "Image /content/necklace2.jpg is similar with score: [[0.9002416]]\n",
            "Similar images found: ['/content/necklace2.jpg']\n"
          ]
        }
      ]
    },
    {
      "cell_type": "code",
      "source": [
        "from flask import Flask, request, jsonify\n",
        "from keras.applications.resnet50 import ResNet50, preprocess_input\n",
        "from keras.preprocessing import image\n",
        "from keras.models import Model\n",
        "import numpy as np\n",
        "from sklearn.metrics.pairwise import cosine_similarity\n",
        "import os\n",
        "import boto3\n",
        "from botocore.exceptions import NoCredentialsError\n",
        "\n"
      ],
      "metadata": {
        "id": "pnNP3Bgw-BYI"
      },
      "execution_count": 14,
      "outputs": []
    },
    {
      "cell_type": "code",
      "source": [
        "pip install boto3"
      ],
      "metadata": {
        "colab": {
          "base_uri": "https://localhost:8080/"
        },
        "id": "RfjpHLS4CjGy",
        "outputId": "084ab997-70da-44ea-b86e-ce104597343f"
      },
      "execution_count": 12,
      "outputs": [
        {
          "output_type": "stream",
          "name": "stdout",
          "text": [
            "Collecting boto3\n",
            "  Downloading boto3-1.34.127-py3-none-any.whl (139 kB)\n",
            "\u001b[2K     \u001b[90m━━━━━━━━━━━━━━━━━━━━━━━━━━━━━━━━━━━━━━━━\u001b[0m \u001b[32m139.2/139.2 kB\u001b[0m \u001b[31m3.5 MB/s\u001b[0m eta \u001b[36m0:00:00\u001b[0m\n",
            "\u001b[?25hCollecting botocore<1.35.0,>=1.34.127 (from boto3)\n",
            "  Downloading botocore-1.34.127-py3-none-any.whl (12.3 MB)\n",
            "\u001b[2K     \u001b[90m━━━━━━━━━━━━━━━━━━━━━━━━━━━━━━━━━━━━━━━━\u001b[0m \u001b[32m12.3/12.3 MB\u001b[0m \u001b[31m30.3 MB/s\u001b[0m eta \u001b[36m0:00:00\u001b[0m\n",
            "\u001b[?25hCollecting jmespath<2.0.0,>=0.7.1 (from boto3)\n",
            "  Downloading jmespath-1.0.1-py3-none-any.whl (20 kB)\n",
            "Collecting s3transfer<0.11.0,>=0.10.0 (from boto3)\n",
            "  Downloading s3transfer-0.10.1-py3-none-any.whl (82 kB)\n",
            "\u001b[2K     \u001b[90m━━━━━━━━━━━━━━━━━━━━━━━━━━━━━━━━━━━━━━━━\u001b[0m \u001b[32m82.2/82.2 kB\u001b[0m \u001b[31m9.0 MB/s\u001b[0m eta \u001b[36m0:00:00\u001b[0m\n",
            "\u001b[?25hRequirement already satisfied: python-dateutil<3.0.0,>=2.1 in /usr/local/lib/python3.10/dist-packages (from botocore<1.35.0,>=1.34.127->boto3) (2.8.2)\n",
            "Requirement already satisfied: urllib3!=2.2.0,<3,>=1.25.4 in /usr/local/lib/python3.10/dist-packages (from botocore<1.35.0,>=1.34.127->boto3) (2.0.7)\n",
            "Requirement already satisfied: six>=1.5 in /usr/local/lib/python3.10/dist-packages (from python-dateutil<3.0.0,>=2.1->botocore<1.35.0,>=1.34.127->boto3) (1.16.0)\n",
            "Installing collected packages: jmespath, botocore, s3transfer, boto3\n",
            "Successfully installed boto3-1.34.127 botocore-1.34.127 jmespath-1.0.1 s3transfer-0.10.1\n"
          ]
        }
      ]
    },
    {
      "cell_type": "code",
      "source": [
        "app = Flask(__name__)\n",
        "\n",
        "# AWS S3 configuration\n",
        "S3_BUCKET = 'cfg-products'\n",
        "S3_REGION = 'ap-south-1'  # e.g., 'us-west-1'\n",
        "s3_client = boto3.client('s3', region_name=S3_REGION)\n",
        "\n",
        "# Load the pre-trained ResNet50 model\n",
        "base_model = ResNet50(weights='imagenet')\n",
        "model = Model(inputs=base_model.input, outputs=base_model.get_layer('avg_pool').output)\n",
        "\n",
        "def preprocess_image(img_path):\n",
        "    \"\"\"Loads and preprocesses an image.\"\"\"\n",
        "    img = image.load_img(img_path, target_size=(224, 224))\n",
        "    img_data = image.img_to_array(img)\n",
        "    img_data = np.expand_dims(img_data, axis=0)\n",
        "    img_data = preprocess_input(img_data)\n",
        "    return img_data\n",
        "\n",
        "def extract_features(img_path):\n",
        "    \"\"\"Extracts features from an image using ResNet50.\"\"\"\n",
        "    img_data = preprocess_image(img_path)\n",
        "    features = model.predict(img_data)\n",
        "    return features\n",
        "\n",
        "def list_s3_images(bucket):\n",
        "    \"\"\"Lists all image files in the specified S3 bucket.\"\"\"\n",
        "    response = s3_client.list_objects_v2(Bucket=bucket)\n",
        "    if 'Contents' in response:\n",
        "        return [item['Key'] for item in response['Contents'] if item['Key'].lower().endswith(('png', 'jpg', 'jpeg'))]\n",
        "    return []\n",
        "\n",
        "def download_s3_image(bucket, key, download_path):\n",
        "    \"\"\"Downloads an image from S3.\"\"\"\n",
        "    s3_client.download_file(bucket, key, download_path)\n",
        "\n",
        "def compute_similarity(features1, img_paths):\n",
        "    \"\"\"Computes similarity between a feature vector and features of multiple images.\"\"\"\n",
        "    similarities = []\n",
        "    for img_path in img_paths:\n",
        "        features2 = extract_features(img_path)\n",
        "        similarity = cosine_similarity(features1, features2)\n",
        "        similarities.append(similarity[0][0])\n",
        "    return similarities\n",
        "\n",
        "@app.route('/compare', methods=['POST'])\n",
        "def compare_images():\n",
        "    if 'image' not in request.files:\n",
        "        return jsonify({\"error\": \"Please provide an image to compare.\"}), 400\n",
        "\n",
        "    image_file = request.files['image']\n",
        "    img_path = os.path.join('/tmp', image_file.filename)\n",
        "    image_file.save(img_path)\n",
        "\n",
        "    # Upload the image to S3\n",
        "    s3_client.upload_file(img_path, S3_BUCKET, image_file.filename)\n",
        "\n",
        "    # Extract features of the uploaded image\n",
        "    features1 = extract_features(img_path)\n",
        "\n",
        "    # List and download all images from the S3 bucket\n",
        "    s3_images = list_s3_images(S3_BUCKET)\n",
        "    similarities = []\n",
        "    for s3_image in s3_images:\n",
        "        download_path = os.path.join('/tmp', os.path.basename(s3_image))\n",
        "        download_s3_image(S3_BUCKET, s3_image, download_path)\n",
        "        features2 = extract_features(download_path)\n",
        "        similarity = cosine_similarity(features1, features2)\n",
        "        similarities.append((s3_image, similarity[0][0]))\n",
        "\n",
        "    # Determine similar images\n",
        "    threshold = 0.8  # hyperparameter\n",
        "    similar_images = [img for img, score in similarities if score > threshold]\n",
        "\n",
        "    if similar_images:\n",
        "        return jsonify({\"similar_images\": similar_images})\n",
        "    else:\n",
        "        return jsonify({\"message\": \"No similar images found.\"})\n",
        "\n",
        "if __name__ == '__main__':\n",
        "    app.run(debug=True)"
      ],
      "metadata": {
        "id": "6wcQ4xmACzc3"
      },
      "execution_count": null,
      "outputs": []
    }
  ]
}